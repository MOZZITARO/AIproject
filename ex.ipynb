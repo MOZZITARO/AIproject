{
 "cells": [
  {
   "cell_type": "code",
   "execution_count": null,
   "id": "43719e48",
   "metadata": {},
   "outputs": [
    {
     "name": "stdout",
     "output_type": "stream",
     "text": [
      "      RCP_NM  RCP_SEQ                  MANUAL01  \\\n",
      "0  새우 두부 계란찜       28  1. 손질된 새우를 끓는 물에 데쳐 건진다.   \n",
      "\n",
      "                                            MANUAL02  \\\n",
      "0  2. 연두부, 달걀, 생크림, 설탕에 녹인 무염버터를 믹서에 넣고 간 뒤 새우(1)...   \n",
      "\n",
      "                                            MANUAL03 MANUAL04 MANUAL05  \\\n",
      "0  3. 시금치를 잘게 다져 혼합물 그릇(2)에 뿌리고 찜기에 넣고 중간 불에서 10분...                     \n",
      "\n",
      "  MANUAL06 MANUAL07 MANUAL08  ... MANUAL11 MANUAL12 MANUAL13 MANUAL14  \\\n",
      "0                             ...                                       \n",
      "\n",
      "  MANUAL15 MANUAL16 MANUAL17 MANUAL18 MANUAL19 MANUAL20  \n",
      "0                                                        \n",
      "\n",
      "[1 rows x 22 columns]\n"
     ]
    },
    {
     "ename": "AttributeError",
     "evalue": "'DataFrame' object has no attribute 'interrows'",
     "output_type": "error",
     "traceback": [
      "\u001b[1;31m---------------------------------------------------------------------------\u001b[0m",
      "\u001b[1;31mAttributeError\u001b[0m                            Traceback (most recent call last)",
      "Cell \u001b[1;32mIn[13], line 25\u001b[0m\n\u001b[0;32m     22\u001b[0m manual_columns \u001b[38;5;241m=\u001b[39m [\u001b[38;5;124mf\u001b[39m\u001b[38;5;124m'\u001b[39m\u001b[38;5;124mMANUAL\u001b[39m\u001b[38;5;132;01m{\u001b[39;00mi\u001b[38;5;132;01m:\u001b[39;00m\u001b[38;5;124m02d\u001b[39m\u001b[38;5;132;01m}\u001b[39;00m\u001b[38;5;124m'\u001b[39m   \u001b[38;5;28;01mfor\u001b[39;00m i \u001b[38;5;129;01min\u001b[39;00m \u001b[38;5;28mrange\u001b[39m(\u001b[38;5;241m1\u001b[39m,\u001b[38;5;241m21\u001b[39m)]\n\u001b[0;32m     23\u001b[0m result_rows \u001b[38;5;241m=\u001b[39m []\n\u001b[1;32m---> 25\u001b[0m \u001b[38;5;28;01mfor\u001b[39;00m index, row \u001b[38;5;129;01min\u001b[39;00m \u001b[43mdf\u001b[49m\u001b[38;5;241;43m.\u001b[39;49m\u001b[43minterrows\u001b[49m():\n\u001b[0;32m     26\u001b[0m     recipe_name\u001b[38;5;241m=\u001b[39m row[\u001b[38;5;124m'\u001b[39m\u001b[38;5;124mRCP_NM\u001b[39m\u001b[38;5;124m'\u001b[39m]\n\u001b[0;32m     27\u001b[0m     recipe_id \u001b[38;5;241m=\u001b[39mrow[\u001b[38;5;124m'\u001b[39m\u001b[38;5;124mRCP_SEQ\u001b[39m\u001b[38;5;124m'\u001b[39m]\n",
      "File \u001b[1;32mc:\\Users\\human-04\\AppData\\Local\\Programs\\Python\\Python310\\lib\\site-packages\\pandas\\core\\generic.py:6299\u001b[0m, in \u001b[0;36mNDFrame.__getattr__\u001b[1;34m(self, name)\u001b[0m\n\u001b[0;32m   6292\u001b[0m \u001b[38;5;28;01mif\u001b[39;00m (\n\u001b[0;32m   6293\u001b[0m     name \u001b[38;5;129;01mnot\u001b[39;00m \u001b[38;5;129;01min\u001b[39;00m \u001b[38;5;28mself\u001b[39m\u001b[38;5;241m.\u001b[39m_internal_names_set\n\u001b[0;32m   6294\u001b[0m     \u001b[38;5;129;01mand\u001b[39;00m name \u001b[38;5;129;01mnot\u001b[39;00m \u001b[38;5;129;01min\u001b[39;00m \u001b[38;5;28mself\u001b[39m\u001b[38;5;241m.\u001b[39m_metadata\n\u001b[0;32m   6295\u001b[0m     \u001b[38;5;129;01mand\u001b[39;00m name \u001b[38;5;129;01mnot\u001b[39;00m \u001b[38;5;129;01min\u001b[39;00m \u001b[38;5;28mself\u001b[39m\u001b[38;5;241m.\u001b[39m_accessors\n\u001b[0;32m   6296\u001b[0m     \u001b[38;5;129;01mand\u001b[39;00m \u001b[38;5;28mself\u001b[39m\u001b[38;5;241m.\u001b[39m_info_axis\u001b[38;5;241m.\u001b[39m_can_hold_identifiers_and_holds_name(name)\n\u001b[0;32m   6297\u001b[0m ):\n\u001b[0;32m   6298\u001b[0m     \u001b[38;5;28;01mreturn\u001b[39;00m \u001b[38;5;28mself\u001b[39m[name]\n\u001b[1;32m-> 6299\u001b[0m \u001b[38;5;28;01mreturn\u001b[39;00m \u001b[38;5;28;43mobject\u001b[39;49m\u001b[38;5;241;43m.\u001b[39;49m\u001b[38;5;21;43m__getattribute__\u001b[39;49m\u001b[43m(\u001b[49m\u001b[38;5;28;43mself\u001b[39;49m\u001b[43m,\u001b[49m\u001b[43m \u001b[49m\u001b[43mname\u001b[49m\u001b[43m)\u001b[49m\n",
      "\u001b[1;31mAttributeError\u001b[0m: 'DataFrame' object has no attribute 'interrows'"
     ]
    }
   ],
   "source": [
    "import pandas as pd\n",
    "\n",
    "# 데이터 정의\n",
    "data = {\n",
    "    'RCP_NM': ['새우 두부 계란찜'],\n",
    "    'RCP_SEQ': [28],\n",
    "    'MANUAL01': ['1. 손질된 새우를 끓는 물에 데쳐 건진다.'],\n",
    "    'MANUAL02': ['2. 연두부, 달걀, 생크림, 설탕에 녹인 무염버터를 믹서에 넣고 간 뒤 새우(1)를 함께 섞어 그릇에 담는다.'],\n",
    "    'MANUAL03': ['3. 시금치를 잘게 다져 혼합물 그릇(2)에 뿌리고 찜기에 넣고 중간 불에서 10분 정도 찐다.'],\n",
    "    'MANUAL04': [''], 'MANUAL05': [''],\n",
    "    'MANUAL06': [''], 'MANUAL07': [''], 'MANUAL08': [''], 'MANUAL09': [''],\n",
    "    'MANUAL10': [''], 'MANUAL11': [''], 'MANUAL12': [''], 'MANUAL13': [''],\n",
    "    'MANUAL14': [''], 'MANUAL15': [''], 'MANUAL16': [''], 'MANUAL17': [''],\n",
    "    'MANUAL18': [''], 'MANUAL19': [''], 'MANUAL20': [''],\n",
    "}\n",
    "\n",
    "# DataFrame 생성\n",
    "df = pd.DataFrame(data)\n",
    "print(df)\n",
    "\n",
    "# 비어 있지 않은 Manual 컬럼 추출 및 행으로 변환\n",
    "manual_columns = [f'MANUAL{i:02d}' for i in range(1, 21)]\n",
    "result_rows = []\n",
    "\n",
    "for index, row in df.iterrows():  # interrows() → iterrows()로 수정\n",
    "    recipe_name = row['RCP_NM']\n",
    "    recipe_id = row['RCP_SEQ']\n",
    "    for col in manual_columns:\n",
    "        instruction = row[col]\n",
    "        if instruction and instruction.strip():\n",
    "            step_number = int(col.replace('MANUAL', ''))\n",
    "            result_rows.append(\n",
    "                {\n",
    "                    '레시피_이름': recipe_name,\n",
    "                    '레시피_id': recipe_id,\n",
    "                    '단계_번호': step_number,\n",
    "                    '지침': instruction\n",
    "                }\n",
    "            )\n",
    "\n",
    "# 결과 DataFrame 생성 및 정렬\n",
    "result_df = pd.DataFrame(result_rows)\n",
    "result_df = result_df.sort_values(by=['레시피_id', '단계_번호'])\n",
    "\n",
    "# 출력\n",
    "print(result_df)"
   ]
  }
 ],
 "metadata": {
  "kernelspec": {
   "display_name": "Python 3",
   "language": "python",
   "name": "python3"
  },
  "language_info": {
   "codemirror_mode": {
    "name": "ipython",
    "version": 3
   },
   "file_extension": ".py",
   "mimetype": "text/x-python",
   "name": "python",
   "nbconvert_exporter": "python",
   "pygments_lexer": "ipython3",
   "version": "3.10.6"
  }
 },
 "nbformat": 4,
 "nbformat_minor": 5
}
